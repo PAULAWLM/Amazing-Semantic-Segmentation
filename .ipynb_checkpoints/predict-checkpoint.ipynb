{
 "cells": [
  {
   "cell_type": "markdown",
   "metadata": {},
   "source": [
    "# bonlime/keras-deeplab-v3-plus"
   ]
  },
  {
   "cell_type": "code",
   "execution_count": 10,
   "metadata": {},
   "outputs": [],
   "source": [
    "from tensorflow.keras.models import load_model\n",
    "from utils.losses import *\n",
    "\n",
    "net = load_model('/home/paula_wilhelm/Amazing-Semantic-Segmentation/weights/DeepLabV3Plus_based_on_MobileNetV2.h5', custom_objects={'loss': focal_loss})\n",
    "#net.layers[0].input_shape\n",
    "# /home/paula_wilhelm/Amazing-Semantic-Segmentation/checkpoints/DeepLabV3Plus_based_on_MobileNetV2_miou_0.499798_ep_02.h5\n",
    "# /home/paula_wilhelm/Amazing-Semantic-Segmentation/weights/DeepLabV3Plus_based_on_MobileNetV2.h5"
   ]
  },
  {
   "cell_type": "code",
   "execution_count": 2,
   "metadata": {},
   "outputs": [],
   "source": [
    "import numpy as np\n",
    "from PIL import Image\n",
    "from matplotlib import pyplot as plt"
   ]
  },
  {
   "cell_type": "code",
   "execution_count": 3,
   "metadata": {},
   "outputs": [],
   "source": [
    "# Generates labels using most basic setup.  Supports various image sizes.  Returns image labels in same format\n",
    "# as original image.  Normalization matches MobileNetV2\n",
    "\n",
    "trained_image_width=512 \n",
    "mean_subtraction_value=127.5\n",
    "image = np.array(Image.open('/home/paula_wilhelm/Amazing-Semantic-Segmentation/imgs/image1.jpg'))\n",
    "# /home/paula_wilhelm/dataset/test/images/resized_0123.jpg\n",
    "# /home/paula_wilhelm/Amazing-Semantic-Segmentation/imgs/image1.jpg"
   ]
  },
  {
   "cell_type": "code",
   "execution_count": 4,
   "metadata": {},
   "outputs": [],
   "source": [
    "# resize to max dimension of images from training dataset\n",
    "w, h, _ = image.shape\n",
    "ratio = float(trained_image_width) / np.max([w, h])\n",
    "resized_image = np.array(Image.fromarray(image.astype('uint8')).resize((int(ratio * h), int(ratio * w))))"
   ]
  },
  {
   "cell_type": "code",
   "execution_count": 5,
   "metadata": {},
   "outputs": [],
   "source": [
    "# apply normalization for trained dataset images\n",
    "resized_image = (resized_image / mean_subtraction_value) - 1."
   ]
  },
  {
   "cell_type": "code",
   "execution_count": 6,
   "metadata": {},
   "outputs": [],
   "source": [
    "# pad array to square image to match training images\n",
    "pad_x = int(trained_image_width - resized_image.shape[0])\n",
    "pad_y = int(trained_image_width - resized_image.shape[1])\n",
    "resized_image = np.pad(resized_image, ((0, pad_x), (0, pad_y), (0, 0)), mode='constant')"
   ]
  },
  {
   "cell_type": "code",
   "execution_count": 11,
   "metadata": {},
   "outputs": [],
   "source": [
    "# make prediction\n",
    "from model import Deeplabv3\n",
    "deeplab_model = Deeplabv3()\n",
    "res = deeplab_model.predict(np.expand_dims(resized_image, 0))\n",
    "labels = np.argmax(res.squeeze(), -1)"
   ]
  },
  {
   "cell_type": "code",
   "execution_count": 12,
   "metadata": {},
   "outputs": [
    {
     "data": {
      "text/plain": [
       "<matplotlib.image.AxesImage at 0x7f74046c6100>"
      ]
     },
     "execution_count": 12,
     "metadata": {},
     "output_type": "execute_result"
    },
    {
     "data": {
      "image/png": "[encoded data removed]",
      "text/plain": [
       "<Figure size 432x288 with 1 Axes>"
      ]
     },
     "metadata": {
      "needs_background": "light"
     },
     "output_type": "display_data"
    }
   ],
   "source": [
    "# remove padding and resize back to original image\n",
    "if pad_x > 0:\n",
    "    labels = labels[:-pad_x]\n",
    "if pad_y > 0:\n",
    "    labels = labels[:, :-pad_y]\n",
    "labels = np.array(Image.fromarray(labels.astype('uint8')).resize((h, w)))\n",
    "\n",
    "plt.imshow(labels)\n",
    "#plt.waitforbuttonpress()"
   ]
  },
  {
   "cell_type": "code",
   "execution_count": 9,
   "metadata": {},
   "outputs": [
    {
     "data": {
      "text/plain": [
       "(512, 512, 3)"
      ]
     },
     "execution_count": 9,
     "metadata": {},
     "output_type": "execute_result"
    }
   ],
   "source": [
    "import cv2\n",
    "img = cv2.imread('/home/paula_wilhelm/Amazing-Semantic-Segmentation/predictions/resized_0001.jpg')\n",
    "img.shape\n"
   ]
  }
 ],
 "metadata": {
  "kernelspec": {
   "display_name": "Python 3.8.8 64-bit ('base': conda)",
   "name": "pythonjvsc74a57bd0f91a37acb8b7ec9cf4226bd2c6031b734835a38911f51489b8db8d46edbaac5e"
  },
  "language_info": {
   "name": "python",
   "version": ""
  },
  "metadata": {
   "interpreter": {
    "hash": "f91a37acb8b7ec9cf4226bd2c6031b734835a38911f51489b8db8d46edbaac5e"
   }
  }
 },
 "nbformat": 4,
 "nbformat_minor": 2
}
